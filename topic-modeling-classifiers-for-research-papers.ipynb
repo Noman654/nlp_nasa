{
 "cells": [
  {
   "cell_type": "markdown",
   "metadata": {
    "papermill": {
     "duration": 0.017139,
     "end_time": "2021-02-26T17:41:47.922520",
     "exception": false,
     "start_time": "2021-02-26T17:41:47.905381",
     "status": "completed"
    },
    "tags": []
   },
   "source": [
    "# Experimenting with Topic Modeling using Word Embeddings\n",
    "\n",
    "The data set being used contains research paper titles and abstracts as well as labels as either Computer Science, Physics, Mathematics, Statistics, Quantitative Biology, Quantitative Finance, or some combination of those labels.  The approach that I am taking is to convert the text to a vector using word embeddings trained on this data set, then I will train a classifier for each of the labels, separately.  At the end I am going to create a function that when text is inputed will return the likely topic(s) of the title or abstract.\n",
    "\n",
    "This function will evaluate the inputed text on each of the classifiers separately, then return an array with the results of each one in the same order that they appear in the columns in the training dataset."
   ]
  },
  {
   "cell_type": "code",
   "execution_count": 1,
   "metadata": {},
   "outputs": [],
   "source": []
  },
  {
   "cell_type": "code",
   "execution_count": 5,
   "metadata": {
    "_cell_guid": "b1076dfc-b9ad-4769-8c92-a6c4dae69d19",
    "_uuid": "8f2839f25d086af736a60e9eeb907d3b93b6e0e5",
    "execution": {
     "iopub.execute_input": "2021-02-26T17:41:47.965715Z",
     "iopub.status.busy": "2021-02-26T17:41:47.965054Z",
     "iopub.status.idle": "2021-02-26T17:41:55.509129Z",
     "shell.execute_reply": "2021-02-26T17:41:55.509817Z"
    },
    "papermill": {
     "duration": 7.571276,
     "end_time": "2021-02-26T17:41:55.510243",
     "exception": false,
     "start_time": "2021-02-26T17:41:47.938967",
     "status": "completed"
    },
    "tags": []
   },
   "outputs": [
    {
     "name": "stdout",
     "output_type": "stream",
     "text": [
      "You're running python 3.10.5\n"
     ]
    }
   ],
   "source": [
    "import numpy as np # linear algebra\n",
    "import pandas as pd # data processing, CSV file I/O (e.g. pd.read_csv)\n",
    "import ast \n",
    "\n",
    "# import os\n",
    "# for dirname, _, filenames in os.walk('/kaggle/input'):\n",
    "#     for filename in filenames:\n",
    "#         print(os.path.join(dirname, filename))\n",
    "\n",
    "\n",
    "import sys\n",
    "import pandas as pd\n",
    "import matplotlib.pyplot as plt\n",
    "import random\n",
    "\n",
    "\n",
    "from nltk.corpus import stopwords\n",
    "from nltk.stem.wordnet import WordNetLemmatizer\n",
    "from sklearn.ensemble import RandomForestClassifier\n",
    "from gensim.models import Word2Vec\n",
    "import gensim.utils\n",
    "import warnings \n",
    "warnings.filterwarnings('ignore')\n",
    "\n",
    "import tensorflow as tf\n",
    "\n",
    "%matplotlib notebook\n",
    "print('You\\'re running python %s' % sys.version.split(' ')[0])"
   ]
  },
  {
   "cell_type": "code",
   "execution_count": null,
   "metadata": {},
   "outputs": [],
   "source": []
  },
  {
   "cell_type": "markdown",
   "metadata": {
    "papermill": {
     "duration": 0.016346,
     "end_time": "2021-02-26T17:41:55.544601",
     "exception": false,
     "start_time": "2021-02-26T17:41:55.528255",
     "status": "completed"
    },
    "tags": []
   },
   "source": [
    "#### Load the training data:"
   ]
  },
  {
   "cell_type": "code",
   "execution_count": 60,
   "metadata": {
    "execution": {
     "iopub.execute_input": "2021-02-26T17:41:55.588260Z",
     "iopub.status.busy": "2021-02-26T17:41:55.586864Z",
     "iopub.status.idle": "2021-02-26T17:41:56.398533Z",
     "shell.execute_reply": "2021-02-26T17:41:56.397891Z"
    },
    "papermill": {
     "duration": 0.83738,
     "end_time": "2021-02-26T17:41:56.398744",
     "exception": false,
     "start_time": "2021-02-26T17:41:55.561364",
     "status": "completed"
    },
    "tags": []
   },
   "outputs": [],
   "source": [
    "# train = pd.read_csv('/kaggle/input/topic-modeling-for-research-articles/train.csv',keep_default_na=False)\n",
    "train = pd.read_csv(\"nasa_data.csv\")"
   ]
  },
  {
   "cell_type": "code",
   "execution_count": 65,
   "metadata": {},
   "outputs": [
    {
     "data": {
      "text/plain": [
       "Unnamed: 0                 0\n",
       "subjectCategories          0\n",
       "keywords                 936\n",
       "otherReportNumbers      1326\n",
       "title                      0\n",
       "distribution               0\n",
       "submittedDate              0\n",
       "authorAffiliations         0\n",
       "stiTypeDetails             0\n",
       "technicalReviewType        0\n",
       "modified                   0\n",
       "id                         0\n",
       "sourceIdentifiers          0\n",
       "created                    0\n",
       "onlyAbstract               0\n",
       "sensitiveInformation       0\n",
       "abstract                 234\n",
       "dtype: int64"
      ]
     },
     "execution_count": 65,
     "metadata": {},
     "output_type": "execute_result"
    }
   ],
   "source": [
    "train.isna().sum()"
   ]
  },
  {
   "cell_type": "code",
   "execution_count": 64,
   "metadata": {},
   "outputs": [
    {
     "name": "stdout",
     "output_type": "stream",
     "text": [
      "['Aeronautics (General)'] 78\n",
      "['Astronomy'] 0\n",
      "['Astrophysics'] 0\n",
      "['Chemistry and Materials (General)'] 78\n",
      "['Cybernetics, Artificial Intelligence and Robotics'] 78\n",
      "['Electronics and Electrical Engineering'] 0\n",
      "['Engineering (General)'] 0\n",
      "['Geosciences (General)', 'Lunar and Planetary Science and Exploration'] 0\n",
      "['Instrumentation and Photography'] 0\n",
      "['Life Sciences (General)'] 0\n",
      "['Lunar and Planetary Science and Exploration', 'Spacecraft Design, Testing and Performance'] 0\n",
      "['Lunar and Planetary Science and Exploration'] 0\n",
      "['Man/System Technology and Life Support'] 0\n",
      "['Mechanical Engineering'] 0\n",
      "['Meteorology and Climatology'] 0\n",
      "['Physics of Elementary Particles and Fields'] 0\n",
      "[] 0\n"
     ]
    }
   ],
   "source": [
    "for i,d in train.groupby('subjectCategories'):\n",
    "    print(i, d['abstract'].isna().sum())"
   ]
  },
  {
   "cell_type": "code",
   "execution_count": 66,
   "metadata": {},
   "outputs": [],
   "source": [
    "train['subjectCategories'].unique()\n",
    "\n",
    "dataframe = []\n",
    "for i in range(len(train)):\n",
    "    # print(train.loc[i])\n",
    "    categories = ast.literal_eval(train.loc[i, \"subjectCategories\"])\n",
    "    d = train.loc[i].copy()\n",
    "    for category in categories:\n",
    "        d['subject_category'] = category\n",
    "        dataframe.append(d.copy())"
   ]
  },
  {
   "cell_type": "code",
   "execution_count": 67,
   "metadata": {},
   "outputs": [
    {
     "data": {
      "text/plain": [
       "((1716, 18), (1560, 17))"
      ]
     },
     "execution_count": 67,
     "metadata": {},
     "output_type": "execute_result"
    }
   ],
   "source": [
    "data = pd.DataFrame(dataframe)\n",
    "data.shape,train.shape"
   ]
  },
  {
   "cell_type": "code",
   "execution_count": 69,
   "metadata": {},
   "outputs": [
    {
     "data": {
      "text/plain": [
       "234"
      ]
     },
     "execution_count": 69,
     "metadata": {},
     "output_type": "execute_result"
    }
   ],
   "source": [
    "data['abstract'].isna().sum()"
   ]
  },
  {
   "cell_type": "code",
   "execution_count": 70,
   "metadata": {},
   "outputs": [
    {
     "data": {
      "text/html": [
       "<div>\n",
       "<style scoped>\n",
       "    .dataframe tbody tr th:only-of-type {\n",
       "        vertical-align: middle;\n",
       "    }\n",
       "\n",
       "    .dataframe tbody tr th {\n",
       "        vertical-align: top;\n",
       "    }\n",
       "\n",
       "    .dataframe thead th {\n",
       "        text-align: right;\n",
       "    }\n",
       "</style>\n",
       "<table border=\"1\" class=\"dataframe\">\n",
       "  <thead>\n",
       "    <tr style=\"text-align: right;\">\n",
       "      <th></th>\n",
       "      <th>subject_category</th>\n",
       "      <th>ABSTRACT</th>\n",
       "      <th>TITLE</th>\n",
       "    </tr>\n",
       "  </thead>\n",
       "  <tbody>\n",
       "    <tr>\n",
       "      <th>0</th>\n",
       "      <td>Mechanical Engineering</td>\n",
       "      <td>The Aerospace Mechanisms Symposium (AMS) provi...</td>\n",
       "      <td>46th Aerospace Mechanisms Symposium Proceedings</td>\n",
       "    </tr>\n",
       "    <tr>\n",
       "      <th>1</th>\n",
       "      <td>Life Sciences (General)</td>\n",
       "      <td>A series of virtual workshops was held during ...</td>\n",
       "      <td>The Integration of Life Sciences in Space: Ast...</td>\n",
       "    </tr>\n",
       "    <tr>\n",
       "      <th>2</th>\n",
       "      <td>Lunar and Planetary Science and Exploration</td>\n",
       "      <td>The purpose of the Human Landing System (HLS) ...</td>\n",
       "      <td>Lunar Thermal Analysis Guidebook (L-TAG)</td>\n",
       "    </tr>\n",
       "    <tr>\n",
       "      <th>3</th>\n",
       "      <td>Spacecraft Design, Testing and Performance</td>\n",
       "      <td>The purpose of the Human Landing System (HLS) ...</td>\n",
       "      <td>Lunar Thermal Analysis Guidebook (L-TAG)</td>\n",
       "    </tr>\n",
       "    <tr>\n",
       "      <th>4</th>\n",
       "      <td>Man/System Technology and Life Support</td>\n",
       "      <td>The processing of trash and waste is a welcome...</td>\n",
       "      <td>Technical Risks Associated with Heat Melt Comp...</td>\n",
       "    </tr>\n",
       "    <tr>\n",
       "      <th>...</th>\n",
       "      <td>...</td>\n",
       "      <td>...</td>\n",
       "      <td>...</td>\n",
       "    </tr>\n",
       "    <tr>\n",
       "      <th>1711</th>\n",
       "      <td>Engineering (General)</td>\n",
       "      <td>BACKGROUND: This study was conducted with the ...</td>\n",
       "      <td>ANALYSIS OF EXERCISE LOADS TO INFORM VIBRATION...</td>\n",
       "    </tr>\n",
       "    <tr>\n",
       "      <th>1712</th>\n",
       "      <td>Aeronautics (General)</td>\n",
       "      <td>NaN</td>\n",
       "      <td>Unmanned Aircraft Systems (UAS) Integration in...</td>\n",
       "    </tr>\n",
       "    <tr>\n",
       "      <th>1713</th>\n",
       "      <td>Instrumentation and Photography</td>\n",
       "      <td>The James Webb Space Telescope (JWST) is a lar...</td>\n",
       "      <td>Preparing the JWST Observatory for Science Obs...</td>\n",
       "    </tr>\n",
       "    <tr>\n",
       "      <th>1714</th>\n",
       "      <td>Astronomy</td>\n",
       "      <td>Surface morphologies and space weathering feat...</td>\n",
       "      <td>Surface Morphologies and Space Weathering Feat...</td>\n",
       "    </tr>\n",
       "    <tr>\n",
       "      <th>1715</th>\n",
       "      <td>Meteorology and Climatology</td>\n",
       "      <td>Two Visible Infrared Imaging Radiometer Suite ...</td>\n",
       "      <td>SNPP and NOAA-20 VIIRS On-Orbit Geolocation Tr...</td>\n",
       "    </tr>\n",
       "  </tbody>\n",
       "</table>\n",
       "<p>1716 rows × 3 columns</p>\n",
       "</div>"
      ],
      "text/plain": [
       "                                 subject_category  \\\n",
       "0                          Mechanical Engineering   \n",
       "1                         Life Sciences (General)   \n",
       "2     Lunar and Planetary Science and Exploration   \n",
       "3      Spacecraft Design, Testing and Performance   \n",
       "4          Man/System Technology and Life Support   \n",
       "...                                           ...   \n",
       "1711                        Engineering (General)   \n",
       "1712                        Aeronautics (General)   \n",
       "1713              Instrumentation and Photography   \n",
       "1714                                    Astronomy   \n",
       "1715                  Meteorology and Climatology   \n",
       "\n",
       "                                               ABSTRACT  \\\n",
       "0     The Aerospace Mechanisms Symposium (AMS) provi...   \n",
       "1     A series of virtual workshops was held during ...   \n",
       "2     The purpose of the Human Landing System (HLS) ...   \n",
       "3     The purpose of the Human Landing System (HLS) ...   \n",
       "4     The processing of trash and waste is a welcome...   \n",
       "...                                                 ...   \n",
       "1711  BACKGROUND: This study was conducted with the ...   \n",
       "1712                                                NaN   \n",
       "1713  The James Webb Space Telescope (JWST) is a lar...   \n",
       "1714  Surface morphologies and space weathering feat...   \n",
       "1715  Two Visible Infrared Imaging Radiometer Suite ...   \n",
       "\n",
       "                                                  TITLE  \n",
       "0       46th Aerospace Mechanisms Symposium Proceedings  \n",
       "1     The Integration of Life Sciences in Space: Ast...  \n",
       "2              Lunar Thermal Analysis Guidebook (L-TAG)  \n",
       "3              Lunar Thermal Analysis Guidebook (L-TAG)  \n",
       "4     Technical Risks Associated with Heat Melt Comp...  \n",
       "...                                                 ...  \n",
       "1711  ANALYSIS OF EXERCISE LOADS TO INFORM VIBRATION...  \n",
       "1712  Unmanned Aircraft Systems (UAS) Integration in...  \n",
       "1713  Preparing the JWST Observatory for Science Obs...  \n",
       "1714  Surface Morphologies and Space Weathering Feat...  \n",
       "1715  SNPP and NOAA-20 VIIRS On-Orbit Geolocation Tr...  \n",
       "\n",
       "[1716 rows x 3 columns]"
      ]
     },
     "execution_count": 70,
     "metadata": {},
     "output_type": "execute_result"
    }
   ],
   "source": [
    "train_x = data[['subject_category', 'abstract', 'title']]\n",
    "train_x.columns = ['subject_category', 'ABSTRACT', 'TITLE']\n",
    "train_x.reset_index(inplace=True)\n",
    "train_x.drop(columns='index',inplace=True)\n",
    "train_x"
   ]
  },
  {
   "cell_type": "code",
   "execution_count": 76,
   "metadata": {},
   "outputs": [
    {
     "data": {
      "text/html": [
       "<div>\n",
       "<style scoped>\n",
       "    .dataframe tbody tr th:only-of-type {\n",
       "        vertical-align: middle;\n",
       "    }\n",
       "\n",
       "    .dataframe tbody tr th {\n",
       "        vertical-align: top;\n",
       "    }\n",
       "\n",
       "    .dataframe thead th {\n",
       "        text-align: right;\n",
       "    }\n",
       "</style>\n",
       "<table border=\"1\" class=\"dataframe\">\n",
       "  <thead>\n",
       "    <tr style=\"text-align: right;\">\n",
       "      <th></th>\n",
       "      <th>ABSTRACT</th>\n",
       "      <th>TITLE</th>\n",
       "      <th>Aeronautics (General)</th>\n",
       "      <th>Astronomy</th>\n",
       "      <th>Astrophysics</th>\n",
       "      <th>Chemistry and Materials (General)</th>\n",
       "      <th>Cybernetics, Artificial Intelligence and Robotics</th>\n",
       "      <th>Electronics and Electrical Engineering</th>\n",
       "      <th>Engineering (General)</th>\n",
       "      <th>Geosciences (General)</th>\n",
       "      <th>Instrumentation and Photography</th>\n",
       "      <th>Life Sciences (General)</th>\n",
       "      <th>Lunar and Planetary Science and Exploration</th>\n",
       "      <th>Man/System Technology and Life Support</th>\n",
       "      <th>Mechanical Engineering</th>\n",
       "      <th>Meteorology and Climatology</th>\n",
       "      <th>Physics of Elementary Particles and Fields</th>\n",
       "      <th>Spacecraft Design, Testing and Performance</th>\n",
       "    </tr>\n",
       "  </thead>\n",
       "  <tbody>\n",
       "    <tr>\n",
       "      <th>0</th>\n",
       "      <td>The Aerospace Mechanisms Symposium (AMS) provi...</td>\n",
       "      <td>46th Aerospace Mechanisms Symposium Proceedings</td>\n",
       "      <td>0</td>\n",
       "      <td>0</td>\n",
       "      <td>0</td>\n",
       "      <td>0</td>\n",
       "      <td>0</td>\n",
       "      <td>0</td>\n",
       "      <td>0</td>\n",
       "      <td>0</td>\n",
       "      <td>0</td>\n",
       "      <td>0</td>\n",
       "      <td>0</td>\n",
       "      <td>0</td>\n",
       "      <td>1</td>\n",
       "      <td>0</td>\n",
       "      <td>0</td>\n",
       "      <td>0</td>\n",
       "    </tr>\n",
       "    <tr>\n",
       "      <th>1</th>\n",
       "      <td>A series of virtual workshops was held during ...</td>\n",
       "      <td>The Integration of Life Sciences in Space: Ast...</td>\n",
       "      <td>0</td>\n",
       "      <td>0</td>\n",
       "      <td>0</td>\n",
       "      <td>0</td>\n",
       "      <td>0</td>\n",
       "      <td>0</td>\n",
       "      <td>0</td>\n",
       "      <td>0</td>\n",
       "      <td>0</td>\n",
       "      <td>1</td>\n",
       "      <td>0</td>\n",
       "      <td>0</td>\n",
       "      <td>0</td>\n",
       "      <td>0</td>\n",
       "      <td>0</td>\n",
       "      <td>0</td>\n",
       "    </tr>\n",
       "  </tbody>\n",
       "</table>\n",
       "</div>"
      ],
      "text/plain": [
       "                                            ABSTRACT  \\\n",
       "0  The Aerospace Mechanisms Symposium (AMS) provi...   \n",
       "1  A series of virtual workshops was held during ...   \n",
       "\n",
       "                                               TITLE  Aeronautics (General)  \\\n",
       "0    46th Aerospace Mechanisms Symposium Proceedings                      0   \n",
       "1  The Integration of Life Sciences in Space: Ast...                      0   \n",
       "\n",
       "   Astronomy  Astrophysics  Chemistry and Materials (General)  \\\n",
       "0          0             0                                  0   \n",
       "1          0             0                                  0   \n",
       "\n",
       "   Cybernetics, Artificial Intelligence and Robotics  \\\n",
       "0                                                  0   \n",
       "1                                                  0   \n",
       "\n",
       "   Electronics and Electrical Engineering  Engineering (General)  \\\n",
       "0                                       0                      0   \n",
       "1                                       0                      0   \n",
       "\n",
       "   Geosciences (General)  Instrumentation and Photography  \\\n",
       "0                      0                                0   \n",
       "1                      0                                0   \n",
       "\n",
       "   Life Sciences (General)  Lunar and Planetary Science and Exploration  \\\n",
       "0                        0                                            0   \n",
       "1                        1                                            0   \n",
       "\n",
       "   Man/System Technology and Life Support  Mechanical Engineering  \\\n",
       "0                                       0                       1   \n",
       "1                                       0                       0   \n",
       "\n",
       "   Meteorology and Climatology  Physics of Elementary Particles and Fields  \\\n",
       "0                            0                                           0   \n",
       "1                            0                                           0   \n",
       "\n",
       "   Spacecraft Design, Testing and Performance  \n",
       "0                                           0  \n",
       "1                                           0  "
      ]
     },
     "execution_count": 76,
     "metadata": {},
     "output_type": "execute_result"
    }
   ],
   "source": [
    "ohe =  pd.get_dummies(train_x['subject_category'])\n",
    "train = train_x.join(ohe).drop(columns=['subject_category'])\n",
    "# train['ABSTRACT'].fillna('',inplace=True)\n",
    "train.dropna(inplace=True)\n",
    "# train\n",
    "train.head(2)"
   ]
  },
  {
   "cell_type": "markdown",
   "metadata": {
    "papermill": {
     "duration": 0.016516,
     "end_time": "2021-02-26T17:41:56.432305",
     "exception": false,
     "start_time": "2021-02-26T17:41:56.415789",
     "status": "completed"
    },
    "tags": []
   },
   "source": [
    "## Take a look at the training data:"
   ]
  },
  {
   "cell_type": "markdown",
   "metadata": {
    "papermill": {
     "duration": 0.017122,
     "end_time": "2021-02-26T17:41:56.536417",
     "exception": false,
     "start_time": "2021-02-26T17:41:56.519295",
     "status": "completed"
    },
    "tags": []
   },
   "source": [
    "#### Create array with labels for later:"
   ]
  },
  {
   "cell_type": "code",
   "execution_count": 77,
   "metadata": {
    "execution": {
     "iopub.execute_input": "2021-02-26T17:41:56.577835Z",
     "iopub.status.busy": "2021-02-26T17:41:56.577120Z",
     "iopub.status.idle": "2021-02-26T17:41:56.580048Z",
     "shell.execute_reply": "2021-02-26T17:41:56.579470Z"
    },
    "papermill": {
     "duration": 0.02633,
     "end_time": "2021-02-26T17:41:56.580190",
     "exception": false,
     "start_time": "2021-02-26T17:41:56.553860",
     "status": "completed"
    },
    "tags": []
   },
   "outputs": [
    {
     "data": {
      "text/plain": [
       "array(['Aeronautics (General)', 'Astronomy', 'Astrophysics',\n",
       "       'Chemistry and Materials (General)',\n",
       "       'Cybernetics, Artificial Intelligence and Robotics',\n",
       "       'Electronics and Electrical Engineering', 'Engineering (General)',\n",
       "       'Geosciences (General)', 'Instrumentation and Photography',\n",
       "       'Life Sciences (General)',\n",
       "       'Lunar and Planetary Science and Exploration',\n",
       "       'Man/System Technology and Life Support', 'Mechanical Engineering',\n",
       "       'Meteorology and Climatology',\n",
       "       'Physics of Elementary Particles and Fields',\n",
       "       'Spacecraft Design, Testing and Performance'], dtype='<U49')"
      ]
     },
     "execution_count": 77,
     "metadata": {},
     "output_type": "execute_result"
    }
   ],
   "source": [
    "labels = np.array(list(train.columns[2:]),dtype='str')\n",
    "labels"
   ]
  },
  {
   "cell_type": "markdown",
   "metadata": {
    "papermill": {
     "duration": 0.017291,
     "end_time": "2021-02-26T17:41:56.615183",
     "exception": false,
     "start_time": "2021-02-26T17:41:56.597892",
     "status": "completed"
    },
    "tags": []
   },
   "source": [
    "#### Break up dataset into lists that can be used for training and testing sets:"
   ]
  },
  {
   "cell_type": "code",
   "execution_count": 78,
   "metadata": {
    "execution": {
     "iopub.execute_input": "2021-02-26T17:41:56.654198Z",
     "iopub.status.busy": "2021-02-26T17:41:56.653570Z",
     "iopub.status.idle": "2021-02-26T17:41:56.664944Z",
     "shell.execute_reply": "2021-02-26T17:41:56.665462Z"
    },
    "papermill": {
     "duration": 0.03262,
     "end_time": "2021-02-26T17:41:56.665657",
     "exception": false,
     "start_time": "2021-02-26T17:41:56.633037",
     "status": "completed"
    },
    "tags": []
   },
   "outputs": [],
   "source": [
    "# this row number has a title that has no strings after simple_preprocess, so I removed it\n",
    "# issueRowNumber = 8270\n",
    "\n",
    "# X's\n",
    "inputAbstracts = train['ABSTRACT'].tolist()\n",
    "inputTitles = train['TITLE'].tolist()\n",
    "# inputAbstracts.pop(issueRowNumber)\n",
    "# inputTitles.pop(issueRowNumber)\n",
    "\n",
    "# y's or labels\n",
    "labelColumns = [None]*len(labels)\n",
    "for i in range(len(labels)):\n",
    "    col = train[labels[i]].tolist()\n",
    "    labelColumns[i] = col"
   ]
  },
  {
   "cell_type": "markdown",
   "metadata": {
    "papermill": {
     "duration": 0.01735,
     "end_time": "2021-02-26T17:41:56.700847",
     "exception": false,
     "start_time": "2021-02-26T17:41:56.683497",
     "status": "completed"
    },
    "tags": []
   },
   "source": [
    "#### Tokenize titles and abstracts:"
   ]
  },
  {
   "cell_type": "code",
   "execution_count": 79,
   "metadata": {
    "execution": {
     "iopub.execute_input": "2021-02-26T17:41:56.739756Z",
     "iopub.status.busy": "2021-02-26T17:41:56.739115Z",
     "iopub.status.idle": "2021-02-26T17:42:06.103581Z",
     "shell.execute_reply": "2021-02-26T17:42:06.102106Z"
    },
    "papermill": {
     "duration": 9.385188,
     "end_time": "2021-02-26T17:42:06.103758",
     "exception": false,
     "start_time": "2021-02-26T17:41:56.718570",
     "status": "completed"
    },
    "tags": []
   },
   "outputs": [],
   "source": [
    "#tokenize titles:\n",
    "inputTitleTokens = []\n",
    "for title in inputTitles:\n",
    "    tokens = gensim.utils.simple_preprocess(title)\n",
    "    inputTitleTokens.append(tokens)\n",
    "    \n",
    "#tokenize abstracts:   \n",
    "inputAbstractTokens = []\n",
    "for abstract in inputAbstracts:\n",
    "    tokens = gensim.utils.simple_preprocess(abstract)\n",
    "    inputAbstractTokens.append(tokens)"
   ]
  },
  {
   "cell_type": "markdown",
   "metadata": {
    "papermill": {
     "duration": 0.017451,
     "end_time": "2021-02-26T17:42:06.139126",
     "exception": false,
     "start_time": "2021-02-26T17:42:06.121675",
     "status": "completed"
    },
    "tags": []
   },
   "source": [
    "#### Create Word Embeddings for article titles using Word2Vec"
   ]
  },
  {
   "cell_type": "code",
   "execution_count": 80,
   "metadata": {
    "execution": {
     "iopub.execute_input": "2021-02-26T17:42:06.206838Z",
     "iopub.status.busy": "2021-02-26T17:42:06.201727Z",
     "iopub.status.idle": "2021-02-26T17:43:25.647074Z",
     "shell.execute_reply": "2021-02-26T17:43:25.646375Z"
    },
    "papermill": {
     "duration": 79.490333,
     "end_time": "2021-02-26T17:43:25.647218",
     "exception": false,
     "start_time": "2021-02-26T17:42:06.156885",
     "status": "completed"
    },
    "tags": []
   },
   "outputs": [],
   "source": [
    "W2V_model_title = Word2Vec(inputTitleTokens, min_count=1, vector_size=100,workers=3, window=5, sg=1)\n",
    "W2V_model_abstract = Word2Vec(inputAbstractTokens, min_count=1,vector_size=100,workers=3, window=5, sg=1)"
   ]
  },
  {
   "cell_type": "markdown",
   "metadata": {
    "papermill": {
     "duration": 0.017416,
     "end_time": "2021-02-26T17:43:25.682824",
     "exception": false,
     "start_time": "2021-02-26T17:43:25.665408",
     "status": "completed"
    },
    "tags": []
   },
   "source": [
    "#### Vectorize article titles using Word Embeddings:"
   ]
  },
  {
   "cell_type": "code",
   "execution_count": 81,
   "metadata": {
    "execution": {
     "iopub.execute_input": "2021-02-26T17:43:25.728152Z",
     "iopub.status.busy": "2021-02-26T17:43:25.727357Z",
     "iopub.status.idle": "2021-02-26T17:43:36.370376Z",
     "shell.execute_reply": "2021-02-26T17:43:36.369702Z"
    },
    "papermill": {
     "duration": 10.669776,
     "end_time": "2021-02-26T17:43:36.370532",
     "exception": false,
     "start_time": "2021-02-26T17:43:25.700756",
     "status": "completed"
    },
    "tags": []
   },
   "outputs": [],
   "source": [
    "vectorizedTitles = [None]*len(inputTitleTokens)\n",
    "for i in range(len(inputTitleTokens)):\n",
    "    title=[]\n",
    "    for word in inputTitleTokens[i]:\n",
    "        try:\n",
    "            title.append(W2V_model_title.wv[word])\n",
    "        except:\n",
    "            'do nothing'\n",
    "    title_avg = np.mean(np.array(title, dtype='f'),axis=0)\n",
    "    vectorizedTitles[i]=title_avg\n",
    "\n",
    "vectorizedAbstracts = [None]*len(inputAbstractTokens)\n",
    "for i in range(len(inputAbstractTokens)):\n",
    "    abstract=[]\n",
    "    for word in inputAbstractTokens[i]:\n",
    "        try:\n",
    "            abstract.append(W2V_model_abstract.wv[word])\n",
    "        except:\n",
    "            'do nothing'\n",
    "    abstract_avg = np.mean(np.array(abstract, dtype='f'),axis=0)\n",
    "    vectorizedAbstracts[i]=abstract_avg"
   ]
  },
  {
   "cell_type": "markdown",
   "metadata": {
    "papermill": {
     "duration": 0.017812,
     "end_time": "2021-02-26T17:43:36.406620",
     "exception": false,
     "start_time": "2021-02-26T17:43:36.388808",
     "status": "completed"
    },
    "tags": []
   },
   "source": [
    "#### Split up testing and training sets:"
   ]
  },
  {
   "cell_type": "code",
   "execution_count": 82,
   "metadata": {
    "execution": {
     "iopub.execute_input": "2021-02-26T17:43:36.448724Z",
     "iopub.status.busy": "2021-02-26T17:43:36.448007Z",
     "iopub.status.idle": "2021-02-26T17:43:36.451571Z",
     "shell.execute_reply": "2021-02-26T17:43:36.450953Z"
    },
    "papermill": {
     "duration": 0.027084,
     "end_time": "2021-02-26T17:43:36.451721",
     "exception": false,
     "start_time": "2021-02-26T17:43:36.424637",
     "status": "completed"
    },
    "tags": []
   },
   "outputs": [
    {
     "name": "stdout",
     "output_type": "stream",
     "text": [
      "Testing set size: 296 | Training set size: 1186 | Total size: 1482\n"
     ]
    }
   ],
   "source": [
    "test_size = len(inputTitles)//5\n",
    "train_size = len(inputTitles)-test_size\n",
    "print('Testing set size: '+str(test_size),'|','Training set size: '+str(train_size),'|','Total size: '+str(test_size+train_size))"
   ]
  },
  {
   "cell_type": "code",
   "execution_count": 83,
   "metadata": {},
   "outputs": [
    {
     "data": {
      "text/plain": [
       "1482"
      ]
     },
     "execution_count": 83,
     "metadata": {},
     "output_type": "execute_result"
    }
   ],
   "source": [
    "len(vectorizedAbstracts)\n",
    "# len(vectorizedTitles)"
   ]
  },
  {
   "cell_type": "code",
   "execution_count": 84,
   "metadata": {
    "execution": {
     "iopub.execute_input": "2021-02-26T17:43:36.497374Z",
     "iopub.status.busy": "2021-02-26T17:43:36.496753Z",
     "iopub.status.idle": "2021-02-26T17:43:36.558049Z",
     "shell.execute_reply": "2021-02-26T17:43:36.557295Z"
    },
    "papermill": {
     "duration": 0.087599,
     "end_time": "2021-02-26T17:43:36.558194",
     "exception": false,
     "start_time": "2021-02-26T17:43:36.470595",
     "status": "completed"
    },
    "tags": []
   },
   "outputs": [],
   "source": [
    "#create the X test and training matricies for the article titles\n",
    "temp = np.array(vectorizedTitles)\n",
    "X_title_test,X_title_train = temp[train_size:],temp[:train_size]\n",
    "#create the X test and training matricies for the article abstracts\n",
    "temp = np.array(vectorizedAbstracts)\n",
    "X_abstract_test,X_abstract_train = temp[train_size:],temp[:train_size]\n",
    "\n",
    "#create the Y test and training arrays for the article labels (list of \"np.array columns\")\n",
    "Y_train,Y_test = [None]*len(labelColumns),[None]*len(labelColumns)\n",
    "for colNumber in range(len(labelColumns)):\n",
    "    temp = np.array(labelColumns[colNumber])\n",
    "    Y_test[colNumber],Y_train[colNumber]  = temp[train_size:],temp[:train_size]"
   ]
  },
  {
   "cell_type": "markdown",
   "metadata": {
    "papermill": {
     "duration": 0.01847,
     "end_time": "2021-02-26T17:43:36.595599",
     "exception": false,
     "start_time": "2021-02-26T17:43:36.577129",
     "status": "completed"
    },
    "tags": []
   },
   "source": [
    "#### Create random forest classifiers for each label:"
   ]
  },
  {
   "cell_type": "code",
   "execution_count": 85,
   "metadata": {
    "execution": {
     "iopub.execute_input": "2021-02-26T17:43:36.645421Z",
     "iopub.status.busy": "2021-02-26T17:43:36.644304Z",
     "iopub.status.idle": "2021-02-26T17:43:47.822708Z",
     "shell.execute_reply": "2021-02-26T17:43:47.822185Z"
    },
    "papermill": {
     "duration": 11.208577,
     "end_time": "2021-02-26T17:43:47.822850",
     "exception": false,
     "start_time": "2021-02-26T17:43:36.614273",
     "status": "completed"
    },
    "tags": []
   },
   "outputs": [
    {
     "name": "stdout",
     "output_type": "stream",
     "text": [
      "TITLES:\n",
      "0 Aeronautics (General)\n",
      "Training accuracy: 1.0\n",
      "Testing accuracy: 1.0\n",
      "\n",
      "1 Astronomy\n",
      "Training accuracy: 1.0\n",
      "Testing accuracy: 1.0\n",
      "\n",
      "2 Astrophysics\n",
      "Training accuracy: 1.0\n",
      "Testing accuracy: 1.0\n",
      "\n",
      "3 Chemistry and Materials (General)\n",
      "Training accuracy: 1.0\n",
      "Testing accuracy: 1.0\n",
      "\n",
      "4 Cybernetics, Artificial Intelligence and Robotics\n",
      "Training accuracy: 1.0\n",
      "Testing accuracy: 1.0\n",
      "\n",
      "5 Electronics and Electrical Engineering\n",
      "Training accuracy: 1.0\n",
      "Testing accuracy: 1.0\n",
      "\n",
      "6 Engineering (General)\n",
      "Training accuracy: 1.0\n",
      "Testing accuracy: 1.0\n",
      "\n",
      "7 Geosciences (General)\n",
      "Training accuracy: 0.9477234401349073\n",
      "Testing accuracy: 0.9459459459459459\n",
      "\n",
      "8 Instrumentation and Photography\n",
      "Training accuracy: 1.0\n",
      "Testing accuracy: 1.0\n",
      "\n",
      "9 Life Sciences (General)\n",
      "Training accuracy: 1.0\n",
      "Testing accuracy: 1.0\n",
      "\n",
      "10 Lunar and Planetary Science and Exploration\n",
      "Training accuracy: 0.842327150084317\n",
      "Testing accuracy: 0.8412162162162162\n",
      "\n",
      "11 Man/System Technology and Life Support\n",
      "Training accuracy: 1.0\n",
      "Testing accuracy: 1.0\n",
      "\n",
      "12 Mechanical Engineering\n",
      "Training accuracy: 1.0\n",
      "Testing accuracy: 1.0\n",
      "\n",
      "13 Meteorology and Climatology\n",
      "Training accuracy: 1.0\n",
      "Testing accuracy: 1.0\n",
      "\n",
      "14 Physics of Elementary Particles and Fields\n",
      "Training accuracy: 1.0\n",
      "Testing accuracy: 1.0\n",
      "\n",
      "15 Spacecraft Design, Testing and Performance\n",
      "Training accuracy: 0.8946037099494097\n",
      "Testing accuracy: 0.8952702702702703\n",
      "\n"
     ]
    }
   ],
   "source": [
    "print('TITLES:')\n",
    "title_classifiers = [None]*len(Y_train)\n",
    "for colNumber in range(len(Y_train)):\n",
    "    temp = RandomForestClassifier(max_depth=6,n_estimators=10)\n",
    "    temp.fit(X_title_train, Y_train[colNumber])\n",
    "    title_classifiers[colNumber] = temp\n",
    "    print(colNumber,labels[colNumber])\n",
    "    print('Training accuracy:',np.sum(temp.predict(X_title_train)==Y_train[colNumber])/len(X_title_train))\n",
    "    print('Testing accuracy:',np.sum(temp.predict(X_title_test)==Y_test[colNumber])/len(X_title_test))\n",
    "    print()"
   ]
  },
  {
   "cell_type": "code",
   "execution_count": 86,
   "metadata": {},
   "outputs": [
    {
     "name": "stdout",
     "output_type": "stream",
     "text": [
      "ABSTRACTS:\n",
      "0 Aeronautics (General)\n",
      "Training accuracy: 1.0\n",
      "Testing accuracy: 1.0\n",
      "1 Astronomy\n",
      "Training accuracy: 0.8954468802698144\n",
      "Testing accuracy: 0.8918918918918919\n",
      "2 Astrophysics\n",
      "Training accuracy: 0.9477234401349073\n",
      "Testing accuracy: 0.9459459459459459\n",
      "3 Chemistry and Materials (General)\n",
      "Training accuracy: 1.0\n",
      "Testing accuracy: 1.0\n",
      "4 Cybernetics, Artificial Intelligence and Robotics\n",
      "Training accuracy: 1.0\n",
      "Testing accuracy: 1.0\n",
      "5 Electronics and Electrical Engineering\n",
      "Training accuracy: 0.9468802698145026\n",
      "Testing accuracy: 0.9493243243243243\n",
      "6 Engineering (General)\n",
      "Training accuracy: 0.8954468802698144\n",
      "Testing accuracy: 0.8918918918918919\n",
      "7 Geosciences (General)\n",
      "Training accuracy: 0.9477234401349073\n",
      "Testing accuracy: 0.9459459459459459\n",
      "8 Instrumentation and Photography\n",
      "Training accuracy: 0.8946037099494097\n",
      "Testing accuracy: 0.8952702702702703\n",
      "9 Life Sciences (General)\n",
      "Training accuracy: 0.9468802698145026\n",
      "Testing accuracy: 0.9493243243243243\n",
      "10 Lunar and Planetary Science and Exploration\n",
      "Training accuracy: 0.7900505902192243\n",
      "Testing accuracy: 0.7871621621621622\n",
      "11 Man/System Technology and Life Support\n",
      "Training accuracy: 0.893760539629005\n",
      "Testing accuracy: 0.8986486486486487\n",
      "12 Mechanical Engineering\n",
      "Training accuracy: 0.8946037099494097\n",
      "Testing accuracy: 0.8952702702702703\n",
      "13 Meteorology and Climatology\n",
      "Training accuracy: 0.9477234401349073\n",
      "Testing accuracy: 0.9459459459459459\n",
      "14 Physics of Elementary Particles and Fields\n",
      "Training accuracy: 0.893760539629005\n",
      "Testing accuracy: 0.8986486486486487\n",
      "15 Spacecraft Design, Testing and Performance\n",
      "Training accuracy: 0.8946037099494097\n",
      "Testing accuracy: 0.8952702702702703\n"
     ]
    }
   ],
   "source": [
    "\n",
    "print('ABSTRACTS:')\n",
    "abstract_classifiers = [None]*len(Y_train)\n",
    "for colNumber in range(len(Y_train)):\n",
    "    try :\n",
    "        temp = RandomForestClassifier(max_depth=6,n_estimators=10)\n",
    "        temp.fit(X_abstract_train, Y_train[colNumber])\n",
    "        abstract_classifiers[colNumber] = temp\n",
    "        print(colNumber,labels[colNumber])\n",
    "        print('Training accuracy:',np.sum(temp.predict(X_title_train)==Y_train[colNumber])/len(X_title_train))\n",
    "        print('Testing accuracy:',np.sum(temp.predict(X_title_test)==Y_test[colNumber])/len(X_title_test))\n",
    "    except :\n",
    "        print(\"\")\n",
    "        break"
   ]
  },
  {
   "cell_type": "markdown",
   "metadata": {
    "papermill": {
     "duration": 0.022517,
     "end_time": "2021-02-26T17:43:47.868167",
     "exception": false,
     "start_time": "2021-02-26T17:43:47.845650",
     "status": "completed"
    },
    "tags": []
   },
   "source": [
    "#### Create classifier function that evaluates input text on all five labels:\n",
    "one for the title, and one for the abstract."
   ]
  },
  {
   "cell_type": "code",
   "execution_count": 106,
   "metadata": {
    "execution": {
     "iopub.execute_input": "2021-02-26T17:43:47.925387Z",
     "iopub.status.busy": "2021-02-26T17:43:47.924769Z",
     "iopub.status.idle": "2021-02-26T17:43:47.927397Z",
     "shell.execute_reply": "2021-02-26T17:43:47.926830Z"
    },
    "papermill": {
     "duration": 0.035801,
     "end_time": "2021-02-26T17:43:47.927554",
     "exception": false,
     "start_time": "2021-02-26T17:43:47.891753",
     "status": "completed"
    },
    "tags": []
   },
   "outputs": [],
   "source": [
    "def title_classifier(title):\n",
    "    global title_classifiers\n",
    "    tokenTitle = gensim.utils.simple_preprocess(title)\n",
    "    vecTitle = []\n",
    "    for word in tokenTitle:\n",
    "        try:\n",
    "            vecTitle.append(W2V_model_title.wv[word])\n",
    "        except:\n",
    "            'do nothing'\n",
    "    vecTitle = np.mean(np.array(vecTitle, dtype='f'),axis=0)\n",
    "    preds = [None]*len(title_classifiers)\n",
    "    for index in range(len(title_classifiers)):\n",
    "        preds[index] = int(title_classifiers[index].predict(vecTitle.reshape(1, -1))[0])\n",
    "    return np.array(preds)\n",
    "\n",
    "def abstact_classifier(abstract):\n",
    "    global abstract_classifiers\n",
    "    tokenAbstract = gensim.utils.simple_preprocess(abstract)\n",
    "    vecAbstract = []\n",
    "    for word in tokenAbstract:\n",
    "        try:\n",
    "            vecAbstract.append(W2V_model_title.wv[word])\n",
    "        except:\n",
    "            'do nothing'\n",
    "    vecAbstract = np.mean(np.array(vecAbstract, dtype='f'),axis=0)\n",
    "    preds = [None]*len(abstract_classifiers)\n",
    "    for index in range(len(abstract_classifiers)):\n",
    "        preds[index] = int(abstract_classifiers[index].predict(vecAbstract.reshape(1, -1))[0])\n",
    "    return np.array(preds)"
   ]
  },
  {
   "cell_type": "markdown",
   "metadata": {
    "papermill": {
     "duration": 0.022605,
     "end_time": "2021-02-26T17:43:47.973007",
     "exception": false,
     "start_time": "2021-02-26T17:43:47.950402",
     "status": "completed"
    },
    "tags": []
   },
   "source": [
    "#### Try out classifier on some made up article name inputs:\n"
   ]
  },
  {
   "cell_type": "code",
   "execution_count": 102,
   "metadata": {
    "execution": {
     "iopub.execute_input": "2021-02-26T17:43:48.033926Z",
     "iopub.status.busy": "2021-02-26T17:43:48.027903Z",
     "iopub.status.idle": "2021-02-26T17:43:48.038280Z",
     "shell.execute_reply": "2021-02-26T17:43:48.037783Z"
    },
    "papermill": {
     "duration": 0.042523,
     "end_time": "2021-02-26T17:43:48.038419",
     "exception": false,
     "start_time": "2021-02-26T17:43:47.995896",
     "status": "completed"
    },
    "tags": []
   },
   "outputs": [
    {
     "name": "stdout",
     "output_type": "stream",
     "text": [
      "Output vector: [0 0 0 0 0 0 0 0 0 0 0 0 1 0 0 0] | Predicited Label(s): ['Mechanical Engineering']\n"
     ]
    }
   ],
   "source": [
    "articleName = \"Symposium Proceedings\"\n",
    "preds = title_classifier(articleName)\n",
    "print('Output vector:',preds,'|','Predicited Label(s):',labels[preds==1])"
   ]
  },
  {
   "cell_type": "code",
   "execution_count": 101,
   "metadata": {
    "execution": {
     "iopub.execute_input": "2021-02-26T17:43:48.101227Z",
     "iopub.status.busy": "2021-02-26T17:43:48.100230Z",
     "iopub.status.idle": "2021-02-26T17:43:48.105235Z",
     "shell.execute_reply": "2021-02-26T17:43:48.104665Z"
    },
    "papermill": {
     "duration": 0.04302,
     "end_time": "2021-02-26T17:43:48.105365",
     "exception": false,
     "start_time": "2021-02-26T17:43:48.062345",
     "status": "completed"
    },
    "tags": []
   },
   "outputs": [
    {
     "name": "stdout",
     "output_type": "stream",
     "text": [
      "Output vector: [0 0 0 0 0 0 0 0 0 0 0 0 0 0 0 0] | Predicited Label(s): []\n"
     ]
    }
   ],
   "source": [
    "articleName = \"life is possible on diffrent planet\"\n",
    "preds = title_classifier(articleName)\n",
    "print('Output vector:',preds,'|','Predicited Label(s):',labels[preds==1])"
   ]
  },
  {
   "cell_type": "code",
   "execution_count": 110,
   "metadata": {},
   "outputs": [
    {
     "name": "stdout",
     "output_type": "stream",
     "text": [
      "Output vector: [0 0 0 0 0 0 0 0 0 0 0 0 0 0 0 0] | Predicited Label(s): []\n"
     ]
    }
   ],
   "source": [
    "articleName = \"possiblities of life in space\"\n",
    "preds = abstact_classifier(articleName)\n",
    "print('Output vector:',preds,'|','Predicited Label(s):',labels[preds==1])"
   ]
  },
  {
   "cell_type": "code",
   "execution_count": 15,
   "metadata": {
    "execution": {
     "iopub.execute_input": "2021-02-26T17:43:48.168538Z",
     "iopub.status.busy": "2021-02-26T17:43:48.161508Z",
     "iopub.status.idle": "2021-02-26T17:43:48.174462Z",
     "shell.execute_reply": "2021-02-26T17:43:48.173597Z"
    },
    "papermill": {
     "duration": 0.045361,
     "end_time": "2021-02-26T17:43:48.174636",
     "exception": false,
     "start_time": "2021-02-26T17:43:48.129275",
     "status": "completed"
    },
    "tags": []
   },
   "outputs": [
    {
     "name": "stdout",
     "output_type": "stream",
     "text": [
      "Output vector: [0 0 1 0 0 0] | Predicited Label(s): ['Mathematics']\n"
     ]
    }
   ],
   "source": [
    "articleName = \"New prime number discovered\"\n",
    "preds = title_classifier(articleName)\n",
    "print('Output vector:',preds,'|','Predicited Label(s):',labels[preds==1])"
   ]
  },
  {
   "cell_type": "code",
   "execution_count": 16,
   "metadata": {
    "execution": {
     "iopub.execute_input": "2021-02-26T17:43:48.240799Z",
     "iopub.status.busy": "2021-02-26T17:43:48.240173Z",
     "iopub.status.idle": "2021-02-26T17:43:48.243967Z",
     "shell.execute_reply": "2021-02-26T17:43:48.243122Z"
    },
    "papermill": {
     "duration": 0.045043,
     "end_time": "2021-02-26T17:43:48.244160",
     "exception": false,
     "start_time": "2021-02-26T17:43:48.199117",
     "status": "completed"
    },
    "tags": []
   },
   "outputs": [
    {
     "name": "stdout",
     "output_type": "stream",
     "text": [
      "Output vector: [1 0 0 0 0 0] | Predicited Label(s): ['Computer Science']\n"
     ]
    }
   ],
   "source": [
    "articleName = \"New Data distribution used to speed up training\"\n",
    "preds = title_classifier(articleName)\n",
    "print('Output vector:',preds,'|','Predicited Label(s):',labels[preds==1])"
   ]
  },
  {
   "cell_type": "markdown",
   "metadata": {
    "papermill": {
     "duration": 0.02419,
     "end_time": "2021-02-26T17:43:48.293990",
     "exception": false,
     "start_time": "2021-02-26T17:43:48.269800",
     "status": "completed"
    },
    "tags": []
   },
   "source": [
    "## Summary:\n",
    "\n",
    "While this ensemble classifier does not work perfectly, it does a fairly descent job of classifying the papers correctly. With the way thes models have been trained, it seems that the title gives more of an indication of the field of the paper, rather than the abstract.  Having thought about this a bit, I think maybe the abstract classifiers would be more accurate if the window of the word embeddings for them was larger, since the abstracts have more words, and so maybe a context longer than 5 words.  However, overall the accuracy of 80%+ test and training accuracy for the the titles is a good indication that this classification can be done well.  I am sure it is possible to improve the accuracy a bit.  I believe a better method of combining the word embeddings, instead of a simple average as I have done here, might achieve greater accuracy."
   ]
  },
  {
   "cell_type": "code",
   "execution_count": null,
   "metadata": {
    "papermill": {
     "duration": 0.024138,
     "end_time": "2021-02-26T17:43:48.343067",
     "exception": false,
     "start_time": "2021-02-26T17:43:48.318929",
     "status": "completed"
    },
    "tags": []
   },
   "outputs": [],
   "source": [
    "tokenAbstract = gensim.utils.simple_preprocess(abstract)\n",
    "vecAbstract = []\n",
    "for word in tokenAbstract:\n",
    "    try:\n",
    "        vecAbstract.append(W2V_model_title.wv[word])\n",
    "    except:\n",
    "        'do nothing'\n",
    "vecAbstract = np.mean(np.array(vecAbstract, dtype='f'),axis=0)\n",
    "preds = [None]*len(abstract_classifiers)\n",
    "for index in range(len(abstract_classifiers)):\n",
    "    preds[index] = int(abstract_classifiers[index].predict(vecTitle.reshape(1, -1))[0])\n"
   ]
  }
 ],
 "metadata": {
  "kernelspec": {
   "display_name": "Python 3.10.5 64-bit",
   "language": "python",
   "name": "python3"
  },
  "language_info": {
   "codemirror_mode": {
    "name": "ipython",
    "version": 3
   },
   "file_extension": ".py",
   "mimetype": "text/x-python",
   "name": "python",
   "nbconvert_exporter": "python",
   "pygments_lexer": "ipython3",
   "version": "3.10.5"
  },
  "papermill": {
   "default_parameters": {},
   "duration": 127.482777,
   "end_time": "2021-02-26T17:43:49.679374",
   "environment_variables": {},
   "exception": null,
   "input_path": "__notebook__.ipynb",
   "output_path": "__notebook__.ipynb",
   "parameters": {},
   "start_time": "2021-02-26T17:41:42.196597",
   "version": "2.2.2"
  },
  "vscode": {
   "interpreter": {
    "hash": "2ce1164ab98d319b9834d52646751eefeeeeb1c1ac6c05afbef3f02859c93ad9"
   }
  }
 },
 "nbformat": 4,
 "nbformat_minor": 4
}
